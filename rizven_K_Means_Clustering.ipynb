{
  "nbformat": 4,
  "nbformat_minor": 0,
  "metadata": {
    "colab": {
      "provenance": [],
      "include_colab_link": true
    },
    "kernelspec": {
      "name": "python3",
      "display_name": "Python 3"
    },
    "language_info": {
      "name": "python"
    }
  },
  "cells": [
    {
      "cell_type": "markdown",
      "metadata": {
        "id": "view-in-github",
        "colab_type": "text"
      },
      "source": [
        "<a href=\"https://colab.research.google.com/github/rizvenhabibi/uts-komputasional-komputer/blob/main/rizven_K_Means_Clustering.ipynb\" target=\"_parent\"><img src=\"https://colab.research.google.com/assets/colab-badge.svg\" alt=\"Open In Colab\"/></a>"
      ]
    },
    {
      "cell_type": "code",
      "source": [
        "import matplotlib as plt\n",
        "from sklearn.datasets import make_blobs\n",
        "from sklearn.cluster import KMeans\n",
        "from sklearn.metrics import silhouette_score\n",
        "from sklearn.preprocessing import StandardScaler"
      ],
      "metadata": {
        "id": "S6ePUqDTGwHm"
      },
      "execution_count": 16,
      "outputs": []
    },
    {
      "cell_type": "code",
      "source": [
        "features, true_label = make_blobs(\n",
        "    n_samples=600,\n",
        "    centers=5,\n",
        "    cluster_std=2.75,\n",
        "    random_state=42\n",
        ")"
      ],
      "metadata": {
        "id": "nkPblt_CGxB_"
      },
      "execution_count": 17,
      "outputs": []
    },
    {
      "cell_type": "code",
      "source": [
        "features[:10]"
      ],
      "metadata": {
        "colab": {
          "base_uri": "https://localhost:8080/"
        },
        "id": "9QCDzpecHyL3",
        "outputId": "3aa0dc89-a796-42e2-c39a-12b11e239afb"
      },
      "execution_count": 18,
      "outputs": [
        {
          "output_type": "execute_result",
          "data": {
            "text/plain": [
              "array([[ -8.22054431,  -8.06964461],\n",
              "       [ -9.24576395,  -7.93763734],\n",
              "       [ -7.41476545,   5.32772743],\n",
              "       [ -2.25829999,   2.98413486],\n",
              "       [  0.77845786,  -2.50421659],\n",
              "       [  4.70728182,   3.34266498],\n",
              "       [  6.14938966,   6.49956135],\n",
              "       [ -3.96603818,  10.42577157],\n",
              "       [-10.35694113,   9.06408541],\n",
              "       [ 13.10680106,   5.05200069]])"
            ]
          },
          "metadata": {},
          "execution_count": 18
        }
      ]
    },
    {
      "cell_type": "code",
      "source": [
        "true_label[:200]"
      ],
      "metadata": {
        "id": "agqrrSs7H4VM",
        "colab": {
          "base_uri": "https://localhost:8080/"
        },
        "outputId": "7d778c63-121b-4acd-816d-fa7f9ea6e82b"
      },
      "execution_count": 19,
      "outputs": [
        {
          "output_type": "execute_result",
          "data": {
            "text/plain": [
              "array([2, 2, 3, 4, 4, 1, 4, 0, 3, 1, 2, 3, 1, 0, 0, 2, 0, 4, 3, 4, 0, 4,\n",
              "       1, 3, 3, 1, 1, 4, 4, 4, 2, 0, 3, 2, 2, 4, 1, 1, 2, 0, 4, 1, 1, 2,\n",
              "       2, 1, 1, 4, 3, 4, 0, 1, 2, 1, 0, 4, 0, 2, 2, 4, 1, 0, 2, 0, 4, 1,\n",
              "       2, 4, 1, 1, 3, 4, 2, 4, 3, 2, 0, 3, 2, 3, 4, 2, 2, 4, 4, 0, 4, 2,\n",
              "       3, 3, 3, 2, 0, 0, 1, 1, 0, 0, 4, 2, 4, 3, 0, 3, 3, 2, 4, 0, 4, 0,\n",
              "       0, 3, 0, 4, 3, 1, 3, 0, 2, 2, 3, 3, 4, 4, 1, 0, 0, 0, 3, 1, 1, 2,\n",
              "       2, 0, 4, 0, 1, 1, 1, 2, 3, 1, 1, 2, 0, 3, 0, 2, 1, 2, 3, 1, 2, 0,\n",
              "       2, 0, 1, 4, 3, 3, 4, 4, 4, 0, 1, 0, 0, 4, 0, 2, 1, 1, 1, 0, 0, 4,\n",
              "       1, 4, 0, 4, 1, 3, 4, 2, 2, 1, 0, 1, 3, 3, 1, 4, 0, 4, 2, 1, 3, 4,\n",
              "       0, 1])"
            ]
          },
          "metadata": {},
          "execution_count": 19
        }
      ]
    },
    {
      "cell_type": "code",
      "source": [
        "standard_skala = StandardScaler()\n",
        "skala_fitur = standard_skala.fit_transform(features)"
      ],
      "metadata": {
        "id": "TwN5RrbbI2aJ"
      },
      "execution_count": 20,
      "outputs": []
    },
    {
      "cell_type": "code",
      "source": [
        "skala_fitur[:10]"
      ],
      "metadata": {
        "colab": {
          "base_uri": "https://localhost:8080/"
        },
        "id": "yXpt4mI4Oyf8",
        "outputId": "bf860c5a-ff68-4404-e600-13f792a32d92"
      },
      "execution_count": 21,
      "outputs": [
        {
          "output_type": "execute_result",
          "data": {
            "text/plain": [
              "array([[-1.02539199, -1.78827748],\n",
              "       [-1.19980896, -1.76730345],\n",
              "       [-0.88830771,  0.3403703 ],\n",
              "       [-0.0110566 , -0.03199251],\n",
              "       [ 0.50557619, -0.90401182],\n",
              "       [ 1.17397302,  0.02497272],\n",
              "       [ 1.41931369,  0.52655769],\n",
              "       [-0.30158802,  1.15037545],\n",
              "       [-1.38884958,  0.9340233 ],\n",
              "       [ 2.60295332,  0.29656133]])"
            ]
          },
          "metadata": {},
          "execution_count": 21
        }
      ]
    },
    {
      "cell_type": "code",
      "source": [
        "metode_kmeans = KMeans(\n",
        "    init=\"random\", \n",
        "    n_clusters=6, \n",
        "    n_init=10, \n",
        "    max_iter=100, \n",
        "    random_state=41\n",
        "    )"
      ],
      "metadata": {
        "id": "5lWkbEx6PDq_"
      },
      "execution_count": 22,
      "outputs": []
    },
    {
      "cell_type": "code",
      "source": [
        "metode_kmeans.fit(skala_fitur)"
      ],
      "metadata": {
        "colab": {
          "base_uri": "https://localhost:8080/",
          "height": 75
        },
        "id": "ZmyPuP06R2Gc",
        "outputId": "e4ad4e14-50cc-43a4-a597-486e635430c0"
      },
      "execution_count": 23,
      "outputs": [
        {
          "output_type": "execute_result",
          "data": {
            "text/plain": [
              "KMeans(init='random', max_iter=100, n_clusters=6, n_init=10, random_state=41)"
            ],
            "text/html": [
              "<style>#sk-container-id-2 {color: black;background-color: white;}#sk-container-id-2 pre{padding: 0;}#sk-container-id-2 div.sk-toggleable {background-color: white;}#sk-container-id-2 label.sk-toggleable__label {cursor: pointer;display: block;width: 100%;margin-bottom: 0;padding: 0.3em;box-sizing: border-box;text-align: center;}#sk-container-id-2 label.sk-toggleable__label-arrow:before {content: \"▸\";float: left;margin-right: 0.25em;color: #696969;}#sk-container-id-2 label.sk-toggleable__label-arrow:hover:before {color: black;}#sk-container-id-2 div.sk-estimator:hover label.sk-toggleable__label-arrow:before {color: black;}#sk-container-id-2 div.sk-toggleable__content {max-height: 0;max-width: 0;overflow: hidden;text-align: left;background-color: #f0f8ff;}#sk-container-id-2 div.sk-toggleable__content pre {margin: 0.2em;color: black;border-radius: 0.25em;background-color: #f0f8ff;}#sk-container-id-2 input.sk-toggleable__control:checked~div.sk-toggleable__content {max-height: 200px;max-width: 100%;overflow: auto;}#sk-container-id-2 input.sk-toggleable__control:checked~label.sk-toggleable__label-arrow:before {content: \"▾\";}#sk-container-id-2 div.sk-estimator input.sk-toggleable__control:checked~label.sk-toggleable__label {background-color: #d4ebff;}#sk-container-id-2 div.sk-label input.sk-toggleable__control:checked~label.sk-toggleable__label {background-color: #d4ebff;}#sk-container-id-2 input.sk-hidden--visually {border: 0;clip: rect(1px 1px 1px 1px);clip: rect(1px, 1px, 1px, 1px);height: 1px;margin: -1px;overflow: hidden;padding: 0;position: absolute;width: 1px;}#sk-container-id-2 div.sk-estimator {font-family: monospace;background-color: #f0f8ff;border: 1px dotted black;border-radius: 0.25em;box-sizing: border-box;margin-bottom: 0.5em;}#sk-container-id-2 div.sk-estimator:hover {background-color: #d4ebff;}#sk-container-id-2 div.sk-parallel-item::after {content: \"\";width: 100%;border-bottom: 1px solid gray;flex-grow: 1;}#sk-container-id-2 div.sk-label:hover label.sk-toggleable__label {background-color: #d4ebff;}#sk-container-id-2 div.sk-serial::before {content: \"\";position: absolute;border-left: 1px solid gray;box-sizing: border-box;top: 0;bottom: 0;left: 50%;z-index: 0;}#sk-container-id-2 div.sk-serial {display: flex;flex-direction: column;align-items: center;background-color: white;padding-right: 0.2em;padding-left: 0.2em;position: relative;}#sk-container-id-2 div.sk-item {position: relative;z-index: 1;}#sk-container-id-2 div.sk-parallel {display: flex;align-items: stretch;justify-content: center;background-color: white;position: relative;}#sk-container-id-2 div.sk-item::before, #sk-container-id-2 div.sk-parallel-item::before {content: \"\";position: absolute;border-left: 1px solid gray;box-sizing: border-box;top: 0;bottom: 0;left: 50%;z-index: -1;}#sk-container-id-2 div.sk-parallel-item {display: flex;flex-direction: column;z-index: 1;position: relative;background-color: white;}#sk-container-id-2 div.sk-parallel-item:first-child::after {align-self: flex-end;width: 50%;}#sk-container-id-2 div.sk-parallel-item:last-child::after {align-self: flex-start;width: 50%;}#sk-container-id-2 div.sk-parallel-item:only-child::after {width: 0;}#sk-container-id-2 div.sk-dashed-wrapped {border: 1px dashed gray;margin: 0 0.4em 0.5em 0.4em;box-sizing: border-box;padding-bottom: 0.4em;background-color: white;}#sk-container-id-2 div.sk-label label {font-family: monospace;font-weight: bold;display: inline-block;line-height: 1.2em;}#sk-container-id-2 div.sk-label-container {text-align: center;}#sk-container-id-2 div.sk-container {/* jupyter's `normalize.less` sets `[hidden] { display: none; }` but bootstrap.min.css set `[hidden] { display: none !important; }` so we also need the `!important` here to be able to override the default hidden behavior on the sphinx rendered scikit-learn.org. See: https://github.com/scikit-learn/scikit-learn/issues/21755 */display: inline-block !important;position: relative;}#sk-container-id-2 div.sk-text-repr-fallback {display: none;}</style><div id=\"sk-container-id-2\" class=\"sk-top-container\"><div class=\"sk-text-repr-fallback\"><pre>KMeans(init=&#x27;random&#x27;, max_iter=100, n_clusters=6, n_init=10, random_state=41)</pre><b>In a Jupyter environment, please rerun this cell to show the HTML representation or trust the notebook. <br />On GitHub, the HTML representation is unable to render, please try loading this page with nbviewer.org.</b></div><div class=\"sk-container\" hidden><div class=\"sk-item\"><div class=\"sk-estimator sk-toggleable\"><input class=\"sk-toggleable__control sk-hidden--visually\" id=\"sk-estimator-id-2\" type=\"checkbox\" checked><label for=\"sk-estimator-id-2\" class=\"sk-toggleable__label sk-toggleable__label-arrow\">KMeans</label><div class=\"sk-toggleable__content\"><pre>KMeans(init=&#x27;random&#x27;, max_iter=100, n_clusters=6, n_init=10, random_state=41)</pre></div></div></div></div></div>"
            ]
          },
          "metadata": {},
          "execution_count": 23
        }
      ]
    },
    {
      "cell_type": "code",
      "source": [
        "metode_kmeans.inertia_"
      ],
      "metadata": {
        "id": "b3JVLMkcSNaE",
        "colab": {
          "base_uri": "https://localhost:8080/"
        },
        "outputId": "98f70042-25ed-420d-fc58-b20c1b0fc0d7"
      },
      "execution_count": 24,
      "outputs": [
        {
          "output_type": "execute_result",
          "data": {
            "text/plain": [
              "161.44679640293788"
            ]
          },
          "metadata": {},
          "execution_count": 24
        }
      ]
    },
    {
      "cell_type": "code",
      "source": [
        "metode_kmeans.cluster_centers_"
      ],
      "metadata": {
        "colab": {
          "base_uri": "https://localhost:8080/"
        },
        "id": "3evacVnUUMR5",
        "outputId": "a7a085ad-5a21-4360-b942-54f07a8cd6bc"
      },
      "execution_count": 25,
      "outputs": [
        {
          "output_type": "execute_result",
          "data": {
            "text/plain": [
              "array([[ 0.6665773 , -0.53676397],\n",
              "       [-0.89146418, -1.60436011],\n",
              "       [ 1.43157025, -0.05983   ],\n",
              "       [-1.11103969,  0.70072787],\n",
              "       [ 0.47109781,  0.40919361],\n",
              "       [-0.17918346,  1.15267471]])"
            ]
          },
          "metadata": {},
          "execution_count": 25
        }
      ]
    },
    {
      "cell_type": "code",
      "source": [
        "metode_kmeans.n_iter_"
      ],
      "metadata": {
        "colab": {
          "base_uri": "https://localhost:8080/"
        },
        "id": "NoWHmBQaURp2",
        "outputId": "7e58286d-765c-4212-c2fe-25fc6c168152"
      },
      "execution_count": 26,
      "outputs": [
        {
          "output_type": "execute_result",
          "data": {
            "text/plain": [
              "17"
            ]
          },
          "metadata": {},
          "execution_count": 26
        }
      ]
    },
    {
      "cell_type": "code",
      "source": [
        "metode_kmeans.labels_"
      ],
      "metadata": {
        "colab": {
          "base_uri": "https://localhost:8080/"
        },
        "id": "SJNbkGhEWQRQ",
        "outputId": "a32015d4-adf3-404c-a8b6-37542db610dd"
      },
      "execution_count": 27,
      "outputs": [
        {
          "output_type": "execute_result",
          "data": {
            "text/plain": [
              "array([1, 1, 3, 4, 0, 2, 2, 5, 3, 2, 1, 3, 2, 5, 5, 1, 5, 2, 3, 4, 5, 0,\n",
              "       2, 3, 3, 2, 2, 4, 4, 0, 1, 5, 3, 1, 0, 4, 2, 0, 0, 5, 4, 2, 2, 1,\n",
              "       1, 4, 2, 4, 3, 2, 3, 2, 1, 0, 2, 2, 3, 1, 1, 0, 2, 5, 1, 5, 4, 0,\n",
              "       1, 2, 0, 0, 3, 2, 1, 4, 5, 1, 5, 3, 1, 3, 2, 1, 1, 2, 2, 4, 0, 1,\n",
              "       3, 5, 3, 0, 5, 5, 0, 4, 5, 4, 2, 1, 0, 3, 4, 3, 3, 1, 5, 5, 0, 5,\n",
              "       5, 3, 5, 2, 3, 0, 3, 3, 1, 1, 3, 3, 4, 4, 2, 3, 5, 4, 3, 2, 2, 1,\n",
              "       1, 5, 4, 5, 0, 2, 2, 1, 3, 4, 0, 1, 5, 3, 5, 1, 2, 1, 3, 0, 0, 5,\n",
              "       1, 5, 2, 2, 5, 3, 4, 4, 0, 5, 2, 5, 3, 4, 4, 1, 0, 0, 2, 4, 5, 2,\n",
              "       2, 0, 5, 0, 2, 3, 0, 1, 1, 2, 5, 2, 3, 3, 2, 0, 5, 4, 1, 2, 3, 0,\n",
              "       5, 2, 3, 5, 4, 3, 2, 3, 1, 1, 0, 2, 4, 4, 0, 2, 5, 1, 1, 3, 5, 2,\n",
              "       2, 1, 5, 2, 3, 4, 1, 5, 2, 3, 0, 5, 2, 5, 0, 1, 1, 5, 5, 3, 3, 2,\n",
              "       1, 2, 1, 4, 4, 3, 4, 2, 2, 1, 4, 3, 2, 4, 3, 1, 2, 4, 2, 5, 2, 1,\n",
              "       2, 3, 1, 5, 3, 2, 2, 0, 1, 2, 2, 1, 0, 5, 3, 1, 3, 4, 3, 4, 5, 1,\n",
              "       3, 0, 2, 0, 1, 1, 4, 1, 1, 3, 1, 0, 3, 5, 5, 3, 3, 0, 5, 5, 4, 5,\n",
              "       5, 1, 4, 3, 2, 4, 2, 0, 5, 4, 5, 3, 3, 3, 1, 4, 5, 1, 3, 1, 0, 4,\n",
              "       4, 3, 2, 3, 4, 2, 4, 5, 1, 2, 3, 3, 0, 1, 4, 1, 2, 2, 5, 2, 3, 4,\n",
              "       2, 3, 0, 3, 2, 2, 5, 3, 4, 0, 3, 0, 0, 1, 3, 1, 5, 5, 3, 1, 5, 1,\n",
              "       5, 4, 3, 4, 2, 1, 0, 3, 5, 5, 3, 2, 1, 3, 3, 1, 3, 5, 0, 2, 4, 5,\n",
              "       2, 5, 1, 0, 3, 4, 4, 5, 1, 4, 5, 5, 4, 0, 4, 4, 2, 3, 5, 3, 3, 3,\n",
              "       5, 2, 4, 3, 3, 2, 0, 3, 4, 4, 4, 1, 5, 2, 1, 1, 1, 1, 5, 1, 1, 1,\n",
              "       2, 3, 2, 1, 0, 2, 3, 3, 2, 4, 3, 4, 1, 2, 4, 3, 0, 4, 1, 3, 5, 2,\n",
              "       5, 4, 0, 5, 1, 5, 1, 2, 4, 3, 0, 0, 1, 0, 4, 2, 4, 3, 2, 2, 1, 1,\n",
              "       3, 3, 1, 3, 1, 1, 3, 4, 0, 4, 2, 0, 1, 0, 4, 4, 3, 1, 2, 2, 0, 0,\n",
              "       3, 3, 3, 3, 5, 2, 1, 1, 3, 1, 5, 1, 1, 0, 0, 3, 5, 4, 3, 2, 1, 1,\n",
              "       1, 3, 3, 3, 1, 5, 3, 1, 2, 2, 2, 1, 1, 4, 3, 5, 2, 2, 2, 4, 5, 2,\n",
              "       3, 3, 2, 5, 1, 4, 4, 1, 4, 5, 0, 0, 1, 1, 3, 4, 3, 4, 1, 1, 1, 3,\n",
              "       2, 5, 4, 2, 3, 3, 3, 0, 4, 2, 4, 4, 1, 5, 2, 2, 0, 5, 4, 4, 2, 1,\n",
              "       2, 5, 2, 4, 4, 5], dtype=int32)"
            ]
          },
          "metadata": {},
          "execution_count": 27
        }
      ]
    },
    {
      "cell_type": "code",
      "source": [
        "import numpy as np\n",
        "import matplotlib.pyplot as plt\n",
        "import pandas as pd\n",
        "\n"
      ],
      "metadata": {
        "id": "zjyCAIU6Wxmt"
      },
      "execution_count": 28,
      "outputs": []
    },
    {
      "cell_type": "code",
      "source": [],
      "metadata": {
        "id": "DvBn2AwbZbSb"
      },
      "execution_count": 28,
      "outputs": []
    },
    {
      "cell_type": "code",
      "source": [
        "\n",
        "color = np.array([\"Red\",\"Green\",\"Blue\",\"yellow\",\"brown\",\"purple\"])\n",
        "plt.subplot(1,2,2)\n",
        "plt.scatter(skala_fitur[:,0], skala_fitur[:,1], s=50, alpha=1, cmap='viridis', c=color[metode_kmeans.labels_])\n"
      ],
      "metadata": {
        "colab": {
          "base_uri": "https://localhost:8080/",
          "height": 484
        },
        "id": "tJyWKlbxZmqa",
        "outputId": "1749045f-02e4-48e1-cb0a-cc1dd681c179"
      },
      "execution_count": 30,
      "outputs": [
        {
          "output_type": "stream",
          "name": "stderr",
          "text": [
            "<ipython-input-30-01469dba7faf>:3: UserWarning: No data for colormapping provided via 'c'. Parameters 'cmap' will be ignored\n",
            "  plt.scatter(skala_fitur[:,0], skala_fitur[:,1], s=50, alpha=1, cmap='viridis', c=color[metode_kmeans.labels_])\n"
          ]
        },
        {
          "output_type": "execute_result",
          "data": {
            "text/plain": [
              "<matplotlib.collections.PathCollection at 0x7ff7ea44d990>"
            ]
          },
          "metadata": {},
          "execution_count": 30
        },
        {
          "output_type": "display_data",
          "data": {
            "text/plain": [
              "<Figure size 640x480 with 1 Axes>"
            ],
            "image/png": "[encoded data removed]"
          },
          "metadata": {}
        }
      ]
    },
    {
      "cell_type": "code",
      "source": [],
      "metadata": {
        "id": "uoAIyQgVIubc"
      },
      "execution_count": 29,
      "outputs": []
    }
  ]
}